{
 "cells": [
  {
   "cell_type": "code",
   "execution_count": null,
   "id": "7cac18a0",
   "metadata": {},
   "outputs": [],
   "source": [
    "!pip install Flask-PyMongo"
   ]
  },
  {
   "cell_type": "code",
   "execution_count": 22,
   "id": "fef49136",
   "metadata": {},
   "outputs": [],
   "source": [
    "# Dependencies\n",
    "from bs4 import BeautifulSoup as bs\n",
    "import requests\n",
    "import pymongo\n",
    "from webdriver_manager.chrome import ChromeDriverManager\n",
    "from splinter import Browser\n",
    "import pandas as pd\n",
    "from pprint import pprint"
   ]
  },
  {
   "cell_type": "code",
   "execution_count": 23,
   "id": "e33cd611",
   "metadata": {},
   "outputs": [
    {
     "name": "stderr",
     "output_type": "stream",
     "text": [
      "\n",
      "\n",
      "====== WebDriver manager ======\n",
      "Current google-chrome version is 93.0.4577\n",
      "Get LATEST driver version for 93.0.4577\n",
      "Driver [C:\\Users\\patel\\.wdm\\drivers\\chromedriver\\win32\\93.0.4577.63\\chromedriver.exe] found in cache\n"
     ]
    }
   ],
   "source": [
    "executable_path = {'executable_path': ChromeDriverManager().install()}\n",
    "browser = Browser('chrome', **executable_path, headless=False)"
   ]
  },
  {
   "cell_type": "code",
   "execution_count": 24,
   "id": "b84dc514",
   "metadata": {},
   "outputs": [],
   "source": [
    "# Initialize PyMongo to work with MongoDBs\n",
    "conn = 'mongodb://localhost:27017'\n",
    "client = pymongo.MongoClient(conn)"
   ]
  },
  {
   "cell_type": "code",
   "execution_count": 25,
   "id": "f02a8567",
   "metadata": {},
   "outputs": [],
   "source": [
    "# Define database and collection\n",
    "db = client.MissionToMars_db\n",
    "collection = db.marsdata\n"
   ]
  },
  {
   "cell_type": "code",
   "execution_count": 26,
   "id": "5166800c",
   "metadata": {},
   "outputs": [
    {
     "name": "stdout",
     "output_type": "stream",
     "text": [
      "Collection(Database(MongoClient(host=['localhost:27017'], document_class=dict, tz_aware=False, connect=True), 'MissionToMars_db'), 'marsdata')\n"
     ]
    }
   ],
   "source": [
    "print(collection)"
   ]
  },
  {
   "cell_type": "markdown",
   "id": "e0a57230",
   "metadata": {},
   "source": [
    "# NASA Mars News"
   ]
  },
  {
   "cell_type": "code",
   "execution_count": 27,
   "id": "c070e053",
   "metadata": {},
   "outputs": [],
   "source": [
    "# Visit the URL for mars news\n",
    "url = 'https://redplanetscience.com/'\n",
    "browser.visit(url)\n",
    "\n",
    "# pull html into Beautiful Soup parser\n",
    "html=browser.html\n",
    "soup=bs(html, 'html.parser')"
   ]
  },
  {
   "cell_type": "code",
   "execution_count": 28,
   "id": "5676ee0d",
   "metadata": {},
   "outputs": [],
   "source": [
    "# print(soup)"
   ]
  },
  {
   "cell_type": "code",
   "execution_count": 29,
   "id": "a589d3dd",
   "metadata": {
    "scrolled": true
   },
   "outputs": [
    {
     "name": "stdout",
     "output_type": "stream",
     "text": [
      "News title: NASA's New Mars Rover Is Ready for Space Lasers\n",
      "News Paragraph: Perseverance is one of a few Mars spacecraft carrying laser retroreflectors. The devices could provide new science and safer Mars landings in the future.\n",
      "-------------------------------\n",
      "News title: Mars InSight Lander to Push on Top of the 'Mole'\n",
      "News Paragraph: Engineers have a plan for pushing down on the heat probe, which has been stuck at the Martian surface for a year.\n",
      "-------------------------------\n",
      "News title: Two of a Space Kind: Apollo 12 and Mars 2020\n",
      "News Paragraph: Apollo 12 and the upcoming Mars 2020 mission may be separated by half a century, but they share several goals unique in the annals of space exploration.\n",
      "-------------------------------\n",
      "News title: NASA to Hold Mars 2020 Perseverance Rover Launch Briefing\n",
      "News Paragraph: Learn more about the agency's next Red Planet mission during a live event on June 17.\n",
      "-------------------------------\n",
      "News title: NASA Moves Forward With Campaign to Return Mars Samples to Earth\n",
      "News Paragraph: During this next phase, the program will mature critical technologies and make critical design decisions as well as assess industry partnerships.\n",
      "-------------------------------\n",
      "News title: The MarCO Mission Comes to an End\n",
      "News Paragraph: The pair of briefcase-sized satellites made history when they sailed past Mars in 2019.\n",
      "-------------------------------\n",
      "News title: NASA InSight's 'Mole' Is Out of Sight\n",
      "News Paragraph: Now that the heat probe is just below the Martian surface, InSight's arm will scoop some additional soil on top to help it keep digging so it can take Mars' temperature.\n",
      "-------------------------------\n",
      "News title: AI Is Helping Scientists Discover Fresh Craters on Mars\n",
      "News Paragraph: It's the first time machine learning has been used to find previously unknown craters on the Red Planet.\n",
      "-------------------------------\n",
      "News title: Follow NASA's Perseverance Rover in Real Time on Its Way to Mars\n",
      "News Paragraph: A crisply rendered web application can show you where the agency's Mars 2020 mission is right now as it makes its way to the Red Planet for a Feb. 18, 2021, landing.\n",
      "-------------------------------\n",
      "News title: NASA-JPL Names 'Rolling Stones Rock' on Mars\n",
      "News Paragraph: NASA's Mars InSight mission honored one of the biggest bands of all time at Pasadena concert.\n",
      "-------------------------------\n",
      "News title: 3 Things We've Learned From NASA's Mars InSight \n",
      "News Paragraph: Scientists are finding new mysteries since the geophysics mission landed two years ago.\n",
      "-------------------------------\n",
      "News title: NASA Prepares for Moon and Mars With New Addition to Its Deep Space Network\n",
      "News Paragraph: Robotic spacecraft will be able to communicate with the dish using radio waves and lasers.\n",
      "-------------------------------\n",
      "News title: Independent Review Indicates NASA Prepared for Mars Sample Return Campaign\n",
      "News Paragraph: NASA released an independent review report Tuesday indicating the agency is well positioned for its Mars Sample Return campaign to bring pristine samples from Mars to Earth for scientific study.\n",
      "-------------------------------\n",
      "News title: NASA's Curiosity Mars Rover Takes a New Selfie Before Record Climb\n",
      "News Paragraph: Along with capturing an image before its steepest ascent ever, the robotic explorer filmed its \"selfie stick,\" or robotic arm, in action.\n",
      "-------------------------------\n",
      "News title: From JPL's Mailroom to Mars and Beyond\n",
      "News Paragraph: Bill Allen has thrived as the mechanical systems design lead for three Mars rover missions, but he got his start as a teenager sorting letters for the NASA center.\n",
      "-------------------------------\n"
     ]
    }
   ],
   "source": [
    "# results are returned as an iterable list\n",
    "news_elements = soup.find_all('div', class_='list_text')\n",
    "\n",
    "# loop through the results to find news titleand paragraph\n",
    "for news_element in news_elements:\n",
    "    news_titles = news_element.find('div', class_='content_title')\n",
    "    news_p = news_element.find('div', class_='article_teaser_body')    \n",
    "    print(f'News title: {news_titles.text}')\n",
    "    print(f'News Paragraph: {news_p.text}')\n",
    "    print(f'-------------------------------')"
   ]
  },
  {
   "cell_type": "markdown",
   "id": "3fe57e9d",
   "metadata": {},
   "source": [
    "# JPL Mars Space Images"
   ]
  },
  {
   "cell_type": "code",
   "execution_count": 30,
   "id": "404f7b71",
   "metadata": {},
   "outputs": [],
   "source": [
    "# Visit the URL for futured images\n",
    "url = 'https://spaceimages-mars.com/'\n",
    "browser.visit(url)\n",
    "\n",
    "# pull html into Beautiful Soup parser\n",
    "html=browser.html\n",
    "soup=bs(html, 'html.parser')"
   ]
  },
  {
   "cell_type": "code",
   "execution_count": 31,
   "id": "a8b6502f",
   "metadata": {},
   "outputs": [],
   "source": [
    "# print(soup)"
   ]
  },
  {
   "cell_type": "code",
   "execution_count": 32,
   "id": "18399089",
   "metadata": {},
   "outputs": [
    {
     "name": "stdout",
     "output_type": "stream",
     "text": [
      "The featured image URL: https://spaceimages-mars.com/image/featured/mars1.jpg\n"
     ]
    }
   ],
   "source": [
    "# find the url of the fuatured images\n",
    "image = soup.find('img', class_ = 'headerimage fade-in')['src']\n",
    "featured_imge_url = url + image\n",
    "print(f'The featured image URL: {featured_imge_url}')"
   ]
  },
  {
   "cell_type": "markdown",
   "id": "b2c4a80e",
   "metadata": {},
   "source": [
    "# Mars Facts"
   ]
  },
  {
   "cell_type": "code",
   "execution_count": 33,
   "id": "4def19ac",
   "metadata": {},
   "outputs": [],
   "source": [
    "# vist the url to get Mars facts and scrape the table \n",
    "url = 'https://galaxyfacts-mars.com/'\n",
    "browser.visit(url)\n",
    "\n",
    "# pull html into beautiful Soup parser\n",
    "html = browser.html\n",
    "soup = (html, 'html.parser')"
   ]
  },
  {
   "cell_type": "code",
   "execution_count": 34,
   "id": "8b49d156",
   "metadata": {},
   "outputs": [],
   "source": [
    "# print(soup)"
   ]
  },
  {
   "cell_type": "code",
   "execution_count": 35,
   "id": "7787edaf",
   "metadata": {},
   "outputs": [
    {
     "name": "stdout",
     "output_type": "stream",
     "text": [
      "[                         0                1                2\n",
      "0  Mars - Earth Comparison             Mars            Earth\n",
      "1                Diameter:         6,779 km        12,742 km\n",
      "2                    Mass:  6.39 × 10^23 kg  5.97 × 10^24 kg\n",
      "3                   Moons:                2                1\n",
      "4       Distance from Sun:   227,943,824 km   149,598,262 km\n",
      "5          Length of Year:   687 Earth days      365.24 days\n",
      "6             Temperature:     -87 to -5 °C      -88 to 58°C,                       0                              1\n",
      "0  Equatorial Diameter:                       6,792 km\n",
      "1       Polar Diameter:                       6,752 km\n",
      "2                 Mass:  6.39 × 10^23 kg (0.11 Earths)\n",
      "3                Moons:          2 ( Phobos & Deimos )\n",
      "4       Orbit Distance:       227,943,824 km (1.38 AU)\n",
      "5         Orbit Period:           687 days (1.9 years)\n",
      "6  Surface Temperature:                   -87 to -5 °C\n",
      "7         First Record:              2nd millennium BC\n",
      "8          Recorded By:           Egyptian astronomers]\n"
     ]
    }
   ],
   "source": [
    "# use Panda's 'read_html' to parse the url and convert the html to string\n",
    "tables= pd.read_html(url)\n",
    "print(tables)"
   ]
  },
  {
   "cell_type": "code",
   "execution_count": 36,
   "id": "fcd28087",
   "metadata": {},
   "outputs": [
    {
     "data": {
      "text/html": [
       "<div>\n",
       "<style scoped>\n",
       "    .dataframe tbody tr th:only-of-type {\n",
       "        vertical-align: middle;\n",
       "    }\n",
       "\n",
       "    .dataframe tbody tr th {\n",
       "        vertical-align: top;\n",
       "    }\n",
       "\n",
       "    .dataframe thead th {\n",
       "        text-align: right;\n",
       "    }\n",
       "</style>\n",
       "<table border=\"1\" class=\"dataframe\">\n",
       "  <thead>\n",
       "    <tr style=\"text-align: right;\">\n",
       "      <th></th>\n",
       "      <th>Description</th>\n",
       "      <th>Value</th>\n",
       "    </tr>\n",
       "  </thead>\n",
       "  <tbody>\n",
       "    <tr>\n",
       "      <th>0</th>\n",
       "      <td>Equatorial Diameter:</td>\n",
       "      <td>6,792 km</td>\n",
       "    </tr>\n",
       "    <tr>\n",
       "      <th>1</th>\n",
       "      <td>Polar Diameter:</td>\n",
       "      <td>6,752 km</td>\n",
       "    </tr>\n",
       "    <tr>\n",
       "      <th>2</th>\n",
       "      <td>Mass:</td>\n",
       "      <td>6.39 × 10^23 kg (0.11 Earths)</td>\n",
       "    </tr>\n",
       "    <tr>\n",
       "      <th>3</th>\n",
       "      <td>Moons:</td>\n",
       "      <td>2 ( Phobos &amp; Deimos )</td>\n",
       "    </tr>\n",
       "    <tr>\n",
       "      <th>4</th>\n",
       "      <td>Orbit Distance:</td>\n",
       "      <td>227,943,824 km (1.38 AU)</td>\n",
       "    </tr>\n",
       "    <tr>\n",
       "      <th>5</th>\n",
       "      <td>Orbit Period:</td>\n",
       "      <td>687 days (1.9 years)</td>\n",
       "    </tr>\n",
       "    <tr>\n",
       "      <th>6</th>\n",
       "      <td>Surface Temperature:</td>\n",
       "      <td>-87 to -5 °C</td>\n",
       "    </tr>\n",
       "    <tr>\n",
       "      <th>7</th>\n",
       "      <td>First Record:</td>\n",
       "      <td>2nd millennium BC</td>\n",
       "    </tr>\n",
       "    <tr>\n",
       "      <th>8</th>\n",
       "      <td>Recorded By:</td>\n",
       "      <td>Egyptian astronomers</td>\n",
       "    </tr>\n",
       "  </tbody>\n",
       "</table>\n",
       "</div>"
      ],
      "text/plain": [
       "            Description                          Value\n",
       "0  Equatorial Diameter:                       6,792 km\n",
       "1       Polar Diameter:                       6,752 km\n",
       "2                 Mass:  6.39 × 10^23 kg (0.11 Earths)\n",
       "3                Moons:          2 ( Phobos & Deimos )\n",
       "4       Orbit Distance:       227,943,824 km (1.38 AU)\n",
       "5         Orbit Period:           687 days (1.9 years)\n",
       "6  Surface Temperature:                   -87 to -5 °C\n",
       "7         First Record:              2nd millennium BC\n",
       "8          Recorded By:           Egyptian astronomers"
      ]
     },
     "execution_count": 36,
     "metadata": {},
     "output_type": "execute_result"
    }
   ],
   "source": [
    "table_df = tables[1]\n",
    "table_df.columns = ['Description', 'Value']\n",
    "table_df"
   ]
  },
  {
   "cell_type": "code",
   "execution_count": 37,
   "id": "6a75a58d",
   "metadata": {},
   "outputs": [
    {
     "data": {
      "text/plain": [
       "'<table border=\"1\" class=\"dataframe\">\\n  <thead>\\n    <tr style=\"text-align: right;\">\\n      <th></th>\\n      <th>Description</th>\\n      <th>Value</th>\\n    </tr>\\n  </thead>\\n  <tbody>\\n    <tr>\\n      <th>0</th>\\n      <td>Equatorial Diameter:</td>\\n      <td>6,792 km</td>\\n    </tr>\\n    <tr>\\n      <th>1</th>\\n      <td>Polar Diameter:</td>\\n      <td>6,752 km</td>\\n    </tr>\\n    <tr>\\n      <th>2</th>\\n      <td>Mass:</td>\\n      <td>6.39 × 10^23 kg (0.11 Earths)</td>\\n    </tr>\\n    <tr>\\n      <th>3</th>\\n      <td>Moons:</td>\\n      <td>2 ( Phobos &amp; Deimos )</td>\\n    </tr>\\n    <tr>\\n      <th>4</th>\\n      <td>Orbit Distance:</td>\\n      <td>227,943,824 km (1.38 AU)</td>\\n    </tr>\\n    <tr>\\n      <th>5</th>\\n      <td>Orbit Period:</td>\\n      <td>687 days (1.9 years)</td>\\n    </tr>\\n    <tr>\\n      <th>6</th>\\n      <td>Surface Temperature:</td>\\n      <td>-87 to -5 °C</td>\\n    </tr>\\n    <tr>\\n      <th>7</th>\\n      <td>First Record:</td>\\n      <td>2nd millennium BC</td>\\n    </tr>\\n    <tr>\\n      <th>8</th>\\n      <td>Recorded By:</td>\\n      <td>Egyptian astronomers</td>\\n    </tr>\\n  </tbody>\\n</table>'"
      ]
     },
     "execution_count": 37,
     "metadata": {},
     "output_type": "execute_result"
    }
   ],
   "source": [
    "# use Pandas to convert the data to a HTML table\n",
    "table_df.to_html('marsfactstable.html', index=False)\n",
    "table_df.to_html()"
   ]
  },
  {
   "cell_type": "markdown",
   "id": "444eb1cb",
   "metadata": {},
   "source": [
    "# Mars Hemispheres"
   ]
  },
  {
   "cell_type": "code",
   "execution_count": 70,
   "id": "791ea0e0",
   "metadata": {},
   "outputs": [],
   "source": [
    "# obtain high resolution images for each of Mar's hemispheres\n",
    "url = 'https://marshemispheres.com/'\n",
    "browser.visit(url)\n",
    "\n",
    "# pull html into Beautiful Soup parser\n",
    "html=browser.html\n",
    "soup=bs(html, 'html.parser')"
   ]
  },
  {
   "cell_type": "code",
   "execution_count": 71,
   "id": "78c2b385",
   "metadata": {},
   "outputs": [],
   "source": [
    "# print(soup)"
   ]
  },
  {
   "cell_type": "code",
   "execution_count": 72,
   "id": "c0d8cb7f",
   "metadata": {
    "scrolled": true
   },
   "outputs": [
    {
     "name": "stdout",
     "output_type": "stream",
     "text": [
      "https://marshemispheres.com/images/f5e372a36edfa389625da6d0cc25d905_cerberus_enhanced.tif_full.jpg Cerberus Hemisphere Enhanced\n",
      "https://marshemispheres.com/images/3778f7b43bbbc89d6e3cfabb3613ba93_schiaparelli_enhanced.tif_full.jpg Schiaparelli Hemisphere Enhanced\n",
      "https://marshemispheres.com/images/555e6403a6ddd7ba16ddb0e471cadcf7_syrtis_major_enhanced.tif_full.jpg Syrtis Major Hemisphere Enhanced\n",
      "https://marshemispheres.com/images/b3c7c6c9138f57b4756be9b9c43e3a48_valles_marineris_enhanced.tif_full.jpg Valles Marineris Hemisphere Enhanced\n"
     ]
    }
   ],
   "source": [
    "# find the high resolution images url and title of each Hemisphere\n",
    "\n",
    "# create a list for disctionay of url\n",
    "img_title_list = []\n",
    "\n",
    "# loop thru the list to retrive High resolution image url and title\n",
    "high_reso_image = soup.find_all('div', class_ = 'description')\n",
    "\n",
    "for image in high_reso_image: \n",
    "    #     title of the image\n",
    "    image_title = image.find('h3').get_text()\n",
    "     #     find image url\n",
    "    img_url = image.find('a', class_ = 'itemLink product-item')['href']\n",
    "    hemis_url = url + img_url\n",
    "#     now find the high resolution image from 'hemis_url'\n",
    "    browser.visit(hemis_url)\n",
    "    html = browser.html\n",
    "    soup = bs(html,'html.parser')\n",
    "#     get image src\n",
    "    img_src = soup.find('img', class_='wide-image')['src']\n",
    "#     create image link\n",
    "    highresol_imgurl = url + img_src\n",
    "    \n",
    "#     create disctionary of titles and high resolution url\n",
    "    hemisphere_image_url = [{\n",
    "        'title': image_title,\n",
    "        'image_url': highresol_imgurl\n",
    "    }]      \n",
    "#      append titles and images to the list\n",
    "    img_title_list += hemisphere_image_url\n",
    "\n",
    "# print(img_title_list)\n",
    "for high_res_image in img_title_list:\n",
    "    \n",
    "    print(high_res_image['image_url'], high_res_image['title']   \n",
    "    )"
   ]
  },
  {
   "cell_type": "code",
   "execution_count": 73,
   "id": "c8f3d91f",
   "metadata": {},
   "outputs": [
    {
     "name": "stdout",
     "output_type": "stream",
     "text": [
      "https://marshemispheres.com/images/f5e372a36edfa389625da6d0cc25d905_cerberus_enhanced.tif_full.jpg\n",
      "https://marshemispheres.com/images/3778f7b43bbbc89d6e3cfabb3613ba93_schiaparelli_enhanced.tif_full.jpg\n",
      "https://marshemispheres.com/images/555e6403a6ddd7ba16ddb0e471cadcf7_syrtis_major_enhanced.tif_full.jpg\n",
      "https://marshemispheres.com/images/b3c7c6c9138f57b4756be9b9c43e3a48_valles_marineris_enhanced.tif_full.jpg\n"
     ]
    }
   ],
   "source": [
    " # create disctionary for all the data from above\n",
    "mars_information = {\n",
    "    \"news_title\": news_titles.text,\n",
    "    \"news_p\": news_p.text,\n",
    "    \"featured_imge_url\": featured_imge_url,\n",
    "#     \"facts_table\": table_df,\n",
    "    \"hemispheres\": img_title_list\n",
    "}\n",
    "print(mars_information['hemispheres'][0]['image_url'])\n",
    "print(mars_information['hemispheres'][1]['image_url'])\n",
    "print(mars_information['hemispheres'][2]['image_url'])\n",
    "print(mars_information['hemispheres'][3]['image_url'])"
   ]
  },
  {
   "cell_type": "code",
   "execution_count": null,
   "id": "92d68176",
   "metadata": {},
   "outputs": [],
   "source": []
  },
  {
   "cell_type": "code",
   "execution_count": null,
   "id": "e0460d07",
   "metadata": {},
   "outputs": [],
   "source": []
  }
 ],
 "metadata": {
  "kernelspec": {
   "display_name": "Python 3",
   "language": "python",
   "name": "python3"
  },
  "language_info": {
   "codemirror_mode": {
    "name": "ipython",
    "version": 3
   },
   "file_extension": ".py",
   "mimetype": "text/x-python",
   "name": "python",
   "nbconvert_exporter": "python",
   "pygments_lexer": "ipython3",
   "version": "3.8.8"
  }
 },
 "nbformat": 4,
 "nbformat_minor": 5
}
